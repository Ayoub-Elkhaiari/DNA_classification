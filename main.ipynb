{
 "cells": [
  {
   "cell_type": "code",
   "execution_count": 1,
   "metadata": {},
   "outputs": [],
   "source": [
    "import pandas as pd\n",
    "from sklearn.feature_extraction.text import CountVectorizer\n",
    "from sklearn.model_selection import train_test_split\n",
    "from sklearn.tree import DecisionTreeClassifier\n",
    "from sklearn.metrics import accuracy_score"
   ]
  },
  {
   "cell_type": "code",
   "execution_count": 13,
   "metadata": {},
   "outputs": [],
   "source": [
    "def load_data(file_path, species_id):\n",
    "    sequences = []\n",
    "    labels = []\n",
    "    with open(file_path, 'r') as f:\n",
    "        for line in f:\n",
    "            # Skip the header line or any non-data line\n",
    "            if line.startswith('sequence'):  # Assumes the header starts with 'sequence'\n",
    "                continue\n",
    "            parts = line.strip().split(\"\\t\")\n",
    "            sequence = parts[0]\n",
    "            try:\n",
    "                label = int(parts[1]) + species_id  # Create unique class labels\n",
    "                sequences.append(sequence)\n",
    "                labels.append(label)\n",
    "            except ValueError:\n",
    "                # Handle the case where the label is not a valid integer\n",
    "                continue\n",
    "    return pd.DataFrame({\"sequence\": sequences, \"label\": labels})"
   ]
  },
  {
   "cell_type": "code",
   "execution_count": 14,
   "metadata": {},
   "outputs": [],
   "source": [
    "# Function to generate k-mers from a DNA sequence\n",
    "def generate_kmers(sequence, k=3):\n",
    "    return [sequence[i:i+k] for i in range(len(sequence)-k+1)]"
   ]
  },
  {
   "cell_type": "code",
   "execution_count": 5,
   "metadata": {},
   "outputs": [],
   "source": [
    "# Load data for human, chimpanzee, and dog\n",
    "human_df = load_data('Data/human.txt', 0)        # Class 0-6 for human\n",
    "chimpanzee_df = load_data('Data/chimpanzee.txt', 7)  # Class 7-13 for chimpanzee\n",
    "dog_df = load_data('Data/dog.txt', 14)            # Class 14-17 for dog\n",
    "\n",
    "# Combine all data into one dataframe\n",
    "df = pd.concat([human_df, chimpanzee_df, dog_df], ignore_index=True)\n"
   ]
  },
  {
   "cell_type": "code",
   "execution_count": 15,
   "metadata": {},
   "outputs": [],
   "source": [
    "df['kmers'] = df['sequence'].apply(lambda seq: ' '.join(generate_kmers(seq, k=3)))\n"
   ]
  },
  {
   "cell_type": "code",
   "execution_count": 16,
   "metadata": {},
   "outputs": [
    {
     "data": {
      "text/html": [
       "<div>\n",
       "<style scoped>\n",
       "    .dataframe tbody tr th:only-of-type {\n",
       "        vertical-align: middle;\n",
       "    }\n",
       "\n",
       "    .dataframe tbody tr th {\n",
       "        vertical-align: top;\n",
       "    }\n",
       "\n",
       "    .dataframe thead th {\n",
       "        text-align: right;\n",
       "    }\n",
       "</style>\n",
       "<table border=\"1\" class=\"dataframe\">\n",
       "  <thead>\n",
       "    <tr style=\"text-align: right;\">\n",
       "      <th></th>\n",
       "      <th>sequence</th>\n",
       "      <th>label</th>\n",
       "      <th>kmers</th>\n",
       "    </tr>\n",
       "  </thead>\n",
       "  <tbody>\n",
       "    <tr>\n",
       "      <th>0</th>\n",
       "      <td>ATGCCCCAACTAAATACTACCGTATGGCCCACCATAATTACCCCCA...</td>\n",
       "      <td>4</td>\n",
       "      <td>ATG TGC GCC CCC CCC CCA CAA AAC ACT CTA TAA AA...</td>\n",
       "    </tr>\n",
       "    <tr>\n",
       "      <th>1</th>\n",
       "      <td>ATGAACGAAAATCTGTTCGCTTCATTCATTGCCCCCACAATCCTAG...</td>\n",
       "      <td>4</td>\n",
       "      <td>ATG TGA GAA AAC ACG CGA GAA AAA AAA AAT ATC TC...</td>\n",
       "    </tr>\n",
       "    <tr>\n",
       "      <th>2</th>\n",
       "      <td>ATGTGTGGCATTTGGGCGCTGTTTGGCAGTGATGATTGCCTTTCTG...</td>\n",
       "      <td>3</td>\n",
       "      <td>ATG TGT GTG TGT GTG TGG GGC GCA CAT ATT TTT TT...</td>\n",
       "    </tr>\n",
       "    <tr>\n",
       "      <th>3</th>\n",
       "      <td>ATGTGTGGCATTTGGGCGCTGTTTGGCAGTGATGATTGCCTTTCTG...</td>\n",
       "      <td>3</td>\n",
       "      <td>ATG TGT GTG TGT GTG TGG GGC GCA CAT ATT TTT TT...</td>\n",
       "    </tr>\n",
       "    <tr>\n",
       "      <th>4</th>\n",
       "      <td>ATGCAACAGCATTTTGAATTTGAATACCAGACCAAAGTGGATGGTG...</td>\n",
       "      <td>3</td>\n",
       "      <td>ATG TGC GCA CAA AAC ACA CAG AGC GCA CAT ATT TT...</td>\n",
       "    </tr>\n",
       "    <tr>\n",
       "      <th>...</th>\n",
       "      <td>...</td>\n",
       "      <td>...</td>\n",
       "      <td>...</td>\n",
       "    </tr>\n",
       "    <tr>\n",
       "      <th>6877</th>\n",
       "      <td>ATGGTCGGTCCGGAGAAGGAGCAGAGCTGGATCCCTAAGATCTTCA...</td>\n",
       "      <td>19</td>\n",
       "      <td>ATG TGG GGT GTC TCG CGG GGT GTC TCC CCG CGG GG...</td>\n",
       "    </tr>\n",
       "    <tr>\n",
       "      <th>6878</th>\n",
       "      <td>ATGGCGGCGACGGTGGCTGCGGCGGCCGCCGACGCGGGGCCGGGGG...</td>\n",
       "      <td>20</td>\n",
       "      <td>ATG TGG GGC GCG CGG GGC GCG CGA GAC ACG CGG GG...</td>\n",
       "    </tr>\n",
       "    <tr>\n",
       "      <th>6879</th>\n",
       "      <td>ATGAGCTCGGCCGACAAGGCCCGGGTGGGGCCCGCGGCCGACGGGC...</td>\n",
       "      <td>20</td>\n",
       "      <td>ATG TGA GAG AGC GCT CTC TCG CGG GGC GCC CCG CG...</td>\n",
       "    </tr>\n",
       "    <tr>\n",
       "      <th>6880</th>\n",
       "      <td>GCCCCGAGGATGGGCAGGGTCCCGCTGGCCTGGTGCTTGGCGCTGT...</td>\n",
       "      <td>15</td>\n",
       "      <td>GCC CCC CCC CCG CGA GAG AGG GGA GAT ATG TGG GG...</td>\n",
       "    </tr>\n",
       "    <tr>\n",
       "      <th>6881</th>\n",
       "      <td>ATGGCCTGGGCTCTGAAGCTGCCCCTGGCCGACGAAGTGATTGAAT...</td>\n",
       "      <td>20</td>\n",
       "      <td>ATG TGG GGC GCC CCT CTG TGG GGG GGC GCT CTC TC...</td>\n",
       "    </tr>\n",
       "  </tbody>\n",
       "</table>\n",
       "<p>6882 rows × 3 columns</p>\n",
       "</div>"
      ],
      "text/plain": [
       "                                               sequence  label  \\\n",
       "0     ATGCCCCAACTAAATACTACCGTATGGCCCACCATAATTACCCCCA...      4   \n",
       "1     ATGAACGAAAATCTGTTCGCTTCATTCATTGCCCCCACAATCCTAG...      4   \n",
       "2     ATGTGTGGCATTTGGGCGCTGTTTGGCAGTGATGATTGCCTTTCTG...      3   \n",
       "3     ATGTGTGGCATTTGGGCGCTGTTTGGCAGTGATGATTGCCTTTCTG...      3   \n",
       "4     ATGCAACAGCATTTTGAATTTGAATACCAGACCAAAGTGGATGGTG...      3   \n",
       "...                                                 ...    ...   \n",
       "6877  ATGGTCGGTCCGGAGAAGGAGCAGAGCTGGATCCCTAAGATCTTCA...     19   \n",
       "6878  ATGGCGGCGACGGTGGCTGCGGCGGCCGCCGACGCGGGGCCGGGGG...     20   \n",
       "6879  ATGAGCTCGGCCGACAAGGCCCGGGTGGGGCCCGCGGCCGACGGGC...     20   \n",
       "6880  GCCCCGAGGATGGGCAGGGTCCCGCTGGCCTGGTGCTTGGCGCTGT...     15   \n",
       "6881  ATGGCCTGGGCTCTGAAGCTGCCCCTGGCCGACGAAGTGATTGAAT...     20   \n",
       "\n",
       "                                                  kmers  \n",
       "0     ATG TGC GCC CCC CCC CCA CAA AAC ACT CTA TAA AA...  \n",
       "1     ATG TGA GAA AAC ACG CGA GAA AAA AAA AAT ATC TC...  \n",
       "2     ATG TGT GTG TGT GTG TGG GGC GCA CAT ATT TTT TT...  \n",
       "3     ATG TGT GTG TGT GTG TGG GGC GCA CAT ATT TTT TT...  \n",
       "4     ATG TGC GCA CAA AAC ACA CAG AGC GCA CAT ATT TT...  \n",
       "...                                                 ...  \n",
       "6877  ATG TGG GGT GTC TCG CGG GGT GTC TCC CCG CGG GG...  \n",
       "6878  ATG TGG GGC GCG CGG GGC GCG CGA GAC ACG CGG GG...  \n",
       "6879  ATG TGA GAG AGC GCT CTC TCG CGG GGC GCC CCG CG...  \n",
       "6880  GCC CCC CCC CCG CGA GAG AGG GGA GAT ATG TGG GG...  \n",
       "6881  ATG TGG GGC GCC CCT CTG TGG GGG GGC GCT CTC TC...  \n",
       "\n",
       "[6882 rows x 3 columns]"
      ]
     },
     "execution_count": 16,
     "metadata": {},
     "output_type": "execute_result"
    }
   ],
   "source": [
    "df"
   ]
  },
  {
   "cell_type": "code",
   "execution_count": 17,
   "metadata": {},
   "outputs": [],
   "source": [
    "vectorizer = CountVectorizer()\n"
   ]
  },
  {
   "cell_type": "code",
   "execution_count": 18,
   "metadata": {},
   "outputs": [],
   "source": [
    "# Convert sequences into a matrix of token counts\n",
    "X = vectorizer.fit_transform(df['kmers'])\n",
    "\n",
    "# Target labels (species + class)\n",
    "y = df['label'].values"
   ]
  },
  {
   "cell_type": "code",
   "execution_count": 19,
   "metadata": {},
   "outputs": [],
   "source": [
    "X_train, X_test, y_train, y_test = train_test_split(X, y, test_size=0.2, random_state=1)\n"
   ]
  },
  {
   "cell_type": "code",
   "execution_count": 20,
   "metadata": {},
   "outputs": [
    {
     "name": "stdout",
     "output_type": "stream",
     "text": [
      "Accuracy: 42.77%\n"
     ]
    }
   ],
   "source": [
    "clf = DecisionTreeClassifier()\n",
    "\n",
    "# Train the classifier\n",
    "clf.fit(X_train, y_train)\n",
    "\n",
    "# Make predictions on the test set\n",
    "y_pred = clf.predict(X_test)\n",
    "\n",
    "# Evaluate the model\n",
    "accuracy = accuracy_score(y_test, y_pred)\n",
    "print(f\"Accuracy: {accuracy * 100:.2f}%\")"
   ]
  },
  {
   "cell_type": "code",
   "execution_count": 21,
   "metadata": {},
   "outputs": [
    {
     "name": "stdout",
     "output_type": "stream",
     "text": [
      "Average Cross-Validation Accuracy: 23.41%\n"
     ]
    }
   ],
   "source": [
    "from sklearn.ensemble import RandomForestClassifier\n",
    "from sklearn.model_selection import cross_val_score\n",
    "\n",
    "# Initialize the Random Forest classifier\n",
    "rf_clf = RandomForestClassifier(n_estimators=100, max_depth=10)\n",
    "\n",
    "# Perform cross-validation\n",
    "cv_scores = cross_val_score(rf_clf, X, y, cv=5, scoring='accuracy')\n",
    "\n",
    "# Output the average accuracy score from cross-validation\n",
    "print(f\"Average Cross-Validation Accuracy: {cv_scores.mean() * 100:.2f}%\")\n"
   ]
  },
  {
   "cell_type": "code",
   "execution_count": 22,
   "metadata": {},
   "outputs": [
    {
     "name": "stdout",
     "output_type": "stream",
     "text": [
      "Average Cross-Validation Accuracy (SVM): 29.44%\n"
     ]
    }
   ],
   "source": [
    "from sklearn.svm import SVC\n",
    "from sklearn.model_selection import cross_val_score\n",
    "\n",
    "# Initialize the SVM classifier with RBF kernel\n",
    "svm_clf = SVC(kernel='rbf', random_state=42)\n",
    "\n",
    "# Perform cross-validation\n",
    "cv_scores_svm = cross_val_score(svm_clf, X, y, cv=5, scoring='accuracy')\n",
    "\n",
    "# Output the average accuracy score from cross-validation\n",
    "print(f\"Average Cross-Validation Accuracy (SVM): {cv_scores_svm.mean() * 100:.2f}%\")\n"
   ]
  },
  {
   "cell_type": "code",
   "execution_count": null,
   "metadata": {},
   "outputs": [],
   "source": [
    "import pandas as pd\n",
    "from sklearn.tree import DecisionTreeClassifier\n",
    "from sklearn.feature_extraction.text import CountVectorizer\n",
    "from sklearn.model_selection import cross_val_score\n",
    "\n",
    "# Function to load data from text files\n",
    "def load_data(file_path, species_id):\n",
    "    sequences = []\n",
    "    labels = []\n",
    "    with open(file_path, 'r') as f:\n",
    "        # Skip the header line if it exists\n",
    "        next(f)\n",
    "        for line in f:\n",
    "            parts = line.strip().split(\"\\t\")\n",
    "            # Ensure the second column contains numeric values for labels\n",
    "            try:\n",
    "                sequence = parts[0]\n",
    "                label = species_id + int(parts[1])  # Create unique class labels\n",
    "                sequences.append(sequence)\n",
    "                labels.append(label)\n",
    "            except ValueError:\n",
    "                print(f\"Skipping line with invalid label: {line.strip()}\")\n",
    "    return pd.DataFrame({'sequence': sequences, 'label': labels})\n",
    "\n",
    "# Function to extract k-mers (default size 6)\n",
    "def get_kmers(sequence, size=6):\n",
    "    return [sequence[i:i+size].lower() for i in range(len(sequence) - size + 1)]\n",
    "\n",
    "# Load the human, chimpanzee, and dog data files\n",
    "human_df = load_data('Data/human.txt', 0)  # Human with class 0-6\n",
    "chimpanzee_df = load_data('Data/chimpanzee.txt', 7)  # Chimpanzee with class 7-13\n",
    "dog_df = load_data('Data/dog.txt', 14)  # Dog with class 14-17\n",
    "\n",
    "# Apply k-mer extraction to each dataset\n",
    "human_df['words'] = human_df.apply(lambda x: get_kmers(x['sequence']), axis=1)\n",
    "chimpanzee_df['words'] = chimpanzee_df.apply(lambda x: get_kmers(x['sequence']), axis=1)\n",
    "dog_df['words'] = dog_df.apply(lambda x: get_kmers(x['sequence']), axis=1)\n",
    "\n",
    "# Drop the original sequences as they are no longer needed\n",
    "human_df = human_df.drop('sequence', axis=1)\n",
    "chimpanzee_df = chimpanzee_df.drop('sequence', axis=1)\n",
    "dog_df = dog_df.drop('sequence', axis=1)\n",
    "\n",
    "# Convert lists of k-mers into a space-separated string for vectorization\n",
    "human_texts = [' '.join(x) for x in human_df['words']]\n",
    "chimp_texts = [' '.join(x) for x in chimpanzee_df['words']]\n",
    "dog_texts = [' '.join(x) for x in dog_df['words']]\n",
    "\n",
    "# Extract labels (assuming first column is the label)\n",
    "y_human = human_df.iloc[:, 0].values\n",
    "y_chimp = chimpanzee_df.iloc[:, 0].values\n",
    "y_dog = dog_df.iloc[:, 0].values\n",
    "\n",
    "# Combine all data (human, chimpanzee, dog)\n",
    "X = human_texts + chimp_texts + dog_texts\n",
    "y = list(y_human) + list(y_chimp) + list(y_dog)\n",
    "\n",
    "# Use CountVectorizer to create the feature matrix (6-mers as n-grams)\n",
    "vectorizer = CountVectorizer(ngram_range=(6, 6))  # Extract 6-mers (6-grams)\n",
    "X_vectorized = vectorizer.fit_transform(X)\n",
    "\n",
    "# Train Decision Tree Classifier\n",
    "clf = DecisionTreeClassifier(random_state=42)\n",
    "\n",
    "# Evaluate model using cross-validation\n",
    "cv_accuracy = cross_val_score(clf, X_vectorized, y, cv=5, scoring='accuracy').mean()\n",
    "print(f\"Average Cross-Validation Accuracy: {cv_accuracy * 100:.2f}%\")\n",
    "\n",
    "# Train the model on the full dataset and print accuracy\n",
    "clf.fit(X_vectorized, y)\n",
    "accuracy = clf.score(X_vectorized, y)\n",
    "print(f\"Accuracy: {accuracy * 100:.2f}%\")\n"
   ]
  },
  {
   "cell_type": "code",
   "execution_count": null,
   "metadata": {},
   "outputs": [],
   "source": []
  }
 ],
 "metadata": {
  "kernelspec": {
   "display_name": "Python 3",
   "language": "python",
   "name": "python3"
  },
  "language_info": {
   "codemirror_mode": {
    "name": "ipython",
    "version": 3
   },
   "file_extension": ".py",
   "mimetype": "text/x-python",
   "name": "python",
   "nbconvert_exporter": "python",
   "pygments_lexer": "ipython3",
   "version": "3.12.1"
  }
 },
 "nbformat": 4,
 "nbformat_minor": 2
}
